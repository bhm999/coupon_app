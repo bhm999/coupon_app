{
 "cells": [
  {
   "cell_type": "code",
   "execution_count": 1,
   "id": "0cedb8cf",
   "metadata": {},
   "outputs": [],
   "source": [
    "#pip install imblearn --user\n",
    "#pip install shap"
   ]
  },
  {
   "cell_type": "code",
   "execution_count": 2,
   "id": "517cb23c",
   "metadata": {},
   "outputs": [],
   "source": [
    "import pandas as pd\n",
    "from pandas.tseries.holiday import USFederalHolidayCalendar as calendar\n",
    "import numpy as np\n",
    "import seaborn as sns \n",
    "import matplotlib.pyplot as plt \n",
    "%matplotlib inline  \n",
    "\n",
    "from sklearn.model_selection import train_test_split\n",
    "from scipy.stats import pearsonr\n",
    "\n",
    "from sklearn.feature_extraction.text import CountVectorizer\n",
    "\n",
    "from sklearn.pipeline import Pipeline\n",
    "from sklearn.linear_model import LinearRegression\n",
    "from sklearn.preprocessing import PolynomialFeatures\n",
    "from sklearn.preprocessing import MinMaxScaler\n",
    "from sklearn.linear_model import Ridge\n",
    "from sklearn.linear_model import Lasso\n",
    "from sklearn.metrics import mean_absolute_error, mean_squared_error, r2_score\n",
    "\n",
    "from xgboost.sklearn import XGBRegressor\n",
    "\n",
    "from sklearn.ensemble import RandomForestRegressor\n",
    "\n",
    "from sklearn.model_selection import KFold\n",
    "\n",
    "from sklearn.model_selection import GridSearchCV   \n",
    "from sklearn.metrics import make_scorer\n",
    "\n",
    "#import warnings\n",
    "#warnings.filterwarnings(\"ignore\")\n",
    "\n",
    "import shap\n",
    "\n",
    "from sklearn.linear_model import LogisticRegression\n",
    "from sklearn.metrics import precision_score,recall_score,accuracy_score,f1_score,roc_auc_score\n",
    "\n",
    "\n",
    "from sklearn.metrics import classification_report\n",
    "from sklearn.metrics import ConfusionMatrixDisplay\n",
    "from sklearn.metrics import confusion_matrix\n",
    "from sklearn.metrics import roc_auc_score\n",
    "from sklearn.metrics import roc_curve\n",
    "from sklearn.metrics import precision_recall_curve\n",
    "from matplotlib.collections import LineCollection"
   ]
  },
  {
   "cell_type": "code",
   "execution_count": 3,
   "id": "ed0ff07a",
   "metadata": {},
   "outputs": [
    {
     "data": {
      "text/html": [
       "<div>\n",
       "<style scoped>\n",
       "    .dataframe tbody tr th:only-of-type {\n",
       "        vertical-align: middle;\n",
       "    }\n",
       "\n",
       "    .dataframe tbody tr th {\n",
       "        vertical-align: top;\n",
       "    }\n",
       "\n",
       "    .dataframe thead th {\n",
       "        text-align: right;\n",
       "    }\n",
       "</style>\n",
       "<table border=\"1\" class=\"dataframe\">\n",
       "  <thead>\n",
       "    <tr style=\"text-align: right;\">\n",
       "      <th></th>\n",
       "      <th>age_range</th>\n",
       "      <th>marital_status</th>\n",
       "      <th>rented</th>\n",
       "      <th>family_size</th>\n",
       "      <th>no_of_children</th>\n",
       "      <th>income_bracket</th>\n",
       "      <th>cust_quantity</th>\n",
       "      <th>cust_other_usage</th>\n",
       "      <th>cust_coupon_usage</th>\n",
       "      <th>camp_type</th>\n",
       "      <th>camp_start_month</th>\n",
       "      <th>camp_end_month</th>\n",
       "      <th>camp_duration</th>\n",
       "      <th>holiday_covered</th>\n",
       "      <th>item_NO.</th>\n",
       "      <th>brand_NO.</th>\n",
       "      <th>brand_type</th>\n",
       "      <th>category</th>\n",
       "      <th>items_quantity</th>\n",
       "      <th>redemption_status</th>\n",
       "    </tr>\n",
       "  </thead>\n",
       "  <tbody>\n",
       "    <tr>\n",
       "      <th>0</th>\n",
       "      <td>46-55</td>\n",
       "      <td>Single</td>\n",
       "      <td>0</td>\n",
       "      <td>1</td>\n",
       "      <td>0</td>\n",
       "      <td>5</td>\n",
       "      <td>105551</td>\n",
       "      <td>167</td>\n",
       "      <td>1</td>\n",
       "      <td>X</td>\n",
       "      <td>5</td>\n",
       "      <td>7</td>\n",
       "      <td>47</td>\n",
       "      <td>Yes</td>\n",
       "      <td>125</td>\n",
       "      <td>2</td>\n",
       "      <td>Established</td>\n",
       "      <td>Grocery</td>\n",
       "      <td>4661</td>\n",
       "      <td>0</td>\n",
       "    </tr>\n",
       "    <tr>\n",
       "      <th>1</th>\n",
       "      <td>36-45</td>\n",
       "      <td>Married</td>\n",
       "      <td>0</td>\n",
       "      <td>2</td>\n",
       "      <td>0</td>\n",
       "      <td>3</td>\n",
       "      <td>12143</td>\n",
       "      <td>209</td>\n",
       "      <td>12</td>\n",
       "      <td>X</td>\n",
       "      <td>5</td>\n",
       "      <td>7</td>\n",
       "      <td>47</td>\n",
       "      <td>Yes</td>\n",
       "      <td>3</td>\n",
       "      <td>1</td>\n",
       "      <td>Local</td>\n",
       "      <td>Grocery</td>\n",
       "      <td>86</td>\n",
       "      <td>0</td>\n",
       "    </tr>\n",
       "    <tr>\n",
       "      <th>2</th>\n",
       "      <td>46-55</td>\n",
       "      <td>Married</td>\n",
       "      <td>0</td>\n",
       "      <td>2</td>\n",
       "      <td>0</td>\n",
       "      <td>7</td>\n",
       "      <td>1351</td>\n",
       "      <td>457</td>\n",
       "      <td>85</td>\n",
       "      <td>Y</td>\n",
       "      <td>3</td>\n",
       "      <td>4</td>\n",
       "      <td>32</td>\n",
       "      <td>No</td>\n",
       "      <td>67</td>\n",
       "      <td>1</td>\n",
       "      <td>Established</td>\n",
       "      <td>Pharmaceutical</td>\n",
       "      <td>202</td>\n",
       "      <td>0</td>\n",
       "    </tr>\n",
       "    <tr>\n",
       "      <th>3</th>\n",
       "      <td>unknown</td>\n",
       "      <td>unknown</td>\n",
       "      <td>unknown</td>\n",
       "      <td>unknown</td>\n",
       "      <td>unknown</td>\n",
       "      <td>unknown</td>\n",
       "      <td>306</td>\n",
       "      <td>120</td>\n",
       "      <td>2</td>\n",
       "      <td>X</td>\n",
       "      <td>5</td>\n",
       "      <td>7</td>\n",
       "      <td>47</td>\n",
       "      <td>Yes</td>\n",
       "      <td>4</td>\n",
       "      <td>1</td>\n",
       "      <td>Established</td>\n",
       "      <td>Grocery</td>\n",
       "      <td>47</td>\n",
       "      <td>0</td>\n",
       "    </tr>\n",
       "    <tr>\n",
       "      <th>4</th>\n",
       "      <td>46-55</td>\n",
       "      <td>Married</td>\n",
       "      <td>0</td>\n",
       "      <td>2</td>\n",
       "      <td>0</td>\n",
       "      <td>3</td>\n",
       "      <td>139063</td>\n",
       "      <td>281</td>\n",
       "      <td>10</td>\n",
       "      <td>X</td>\n",
       "      <td>2</td>\n",
       "      <td>4</td>\n",
       "      <td>48</td>\n",
       "      <td>Yes</td>\n",
       "      <td>32</td>\n",
       "      <td>1</td>\n",
       "      <td>Established</td>\n",
       "      <td>Grocery</td>\n",
       "      <td>1610</td>\n",
       "      <td>0</td>\n",
       "    </tr>\n",
       "  </tbody>\n",
       "</table>\n",
       "</div>"
      ],
      "text/plain": [
       "  age_range marital_status   rented family_size no_of_children income_bracket  \\\n",
       "0     46-55         Single        0           1              0              5   \n",
       "1     36-45        Married        0           2              0              3   \n",
       "2     46-55        Married        0           2              0              7   \n",
       "3   unknown        unknown  unknown     unknown        unknown        unknown   \n",
       "4     46-55        Married        0           2              0              3   \n",
       "\n",
       "   cust_quantity  cust_other_usage  cust_coupon_usage camp_type  \\\n",
       "0         105551               167                  1         X   \n",
       "1          12143               209                 12         X   \n",
       "2           1351               457                 85         Y   \n",
       "3            306               120                  2         X   \n",
       "4         139063               281                 10         X   \n",
       "\n",
       "   camp_start_month  camp_end_month  camp_duration holiday_covered  item_NO.  \\\n",
       "0                 5               7             47             Yes       125   \n",
       "1                 5               7             47             Yes         3   \n",
       "2                 3               4             32              No        67   \n",
       "3                 5               7             47             Yes         4   \n",
       "4                 2               4             48             Yes        32   \n",
       "\n",
       "   brand_NO.   brand_type        category  items_quantity  redemption_status  \n",
       "0          2  Established         Grocery            4661                  0  \n",
       "1          1        Local         Grocery              86                  0  \n",
       "2          1  Established  Pharmaceutical             202                  0  \n",
       "3          1  Established         Grocery              47                  0  \n",
       "4          1  Established         Grocery            1610                  0  "
      ]
     },
     "execution_count": 3,
     "metadata": {},
     "output_type": "execute_result"
    }
   ],
   "source": [
    "data=pd.read_csv('train_final.csv')\n",
    "data.head()"
   ]
  },
  {
   "cell_type": "code",
   "execution_count": 4,
   "id": "7d3c1ada",
   "metadata": {},
   "outputs": [
    {
     "name": "stdout",
     "output_type": "stream",
     "text": [
      "<class 'pandas.core.frame.DataFrame'>\n",
      "RangeIndex: 78369 entries, 0 to 78368\n",
      "Data columns (total 20 columns):\n",
      " #   Column             Non-Null Count  Dtype \n",
      "---  ------             --------------  ----- \n",
      " 0   age_range          78369 non-null  object\n",
      " 1   marital_status     78369 non-null  object\n",
      " 2   rented             78369 non-null  object\n",
      " 3   family_size        78369 non-null  object\n",
      " 4   no_of_children     78369 non-null  object\n",
      " 5   income_bracket     78369 non-null  object\n",
      " 6   cust_quantity      78369 non-null  int64 \n",
      " 7   cust_other_usage   78369 non-null  int64 \n",
      " 8   cust_coupon_usage  78369 non-null  int64 \n",
      " 9   camp_type          78369 non-null  object\n",
      " 10  camp_start_month   78369 non-null  int64 \n",
      " 11  camp_end_month     78369 non-null  int64 \n",
      " 12  camp_duration      78369 non-null  int64 \n",
      " 13  holiday_covered    78369 non-null  object\n",
      " 14  item_NO.           78369 non-null  int64 \n",
      " 15  brand_NO.          78369 non-null  int64 \n",
      " 16  brand_type         78369 non-null  object\n",
      " 17  category           78369 non-null  object\n",
      " 18  items_quantity     78369 non-null  int64 \n",
      " 19  redemption_status  78369 non-null  int64 \n",
      "dtypes: int64(10), object(10)\n",
      "memory usage: 12.0+ MB\n"
     ]
    }
   ],
   "source": [
    "data.info()"
   ]
  },
  {
   "cell_type": "code",
   "execution_count": 5,
   "id": "9c4aeb70",
   "metadata": {},
   "outputs": [],
   "source": [
    "features=list(data.columns)\n",
    "target='redemption_status'\n",
    "features.remove(target)\n",
    "X=data[features]\n",
    "y=data[target]"
   ]
  },
  {
   "cell_type": "code",
   "execution_count": 6,
   "id": "c0485502",
   "metadata": {},
   "outputs": [
    {
     "data": {
      "text/plain": [
       "0    0.990698\n",
       "1    0.009302\n",
       "Name: redemption_status, dtype: float64"
      ]
     },
     "execution_count": 6,
     "metadata": {},
     "output_type": "execute_result"
    }
   ],
   "source": [
    "y.value_counts(normalize=True)"
   ]
  },
  {
   "cell_type": "code",
   "execution_count": 7,
   "id": "f2b9d2a6",
   "metadata": {},
   "outputs": [
    {
     "name": "stdout",
     "output_type": "stream",
     "text": [
      "Class=0, Count=77640, Percentage=99.070%\n",
      "Class=1, Count=729, Percentage=0.930%\n"
     ]
    }
   ],
   "source": [
    "from collections import Counter\n",
    "counter = Counter(y)\n",
    "for k,v in counter.items():\n",
    "    per = v / len(y) * 100\n",
    "    print('Class=%s, Count=%d, Percentage=%.3f%%' % (k, v, per))"
   ]
  },
  {
   "cell_type": "code",
   "execution_count": 8,
   "id": "a49e2c14",
   "metadata": {},
   "outputs": [],
   "source": [
    "# stratified train/test split with an imbalanced dataset\n",
    "X_train, X_test, y_train, y_test = train_test_split(\n",
    "    X, y, train_size=0.8, shuffle=True, random_state=2022, stratify=y)"
   ]
  },
  {
   "cell_type": "code",
   "execution_count": 9,
   "id": "4eb93946",
   "metadata": {},
   "outputs": [
    {
     "name": "stdout",
     "output_type": "stream",
     "text": [
      "Train:\n",
      "\t Class=0, Count=62112, Percentage=99.0701%, Class=1, Count=583, Percentage=0.9299%\n",
      "Test:\n",
      "\t Class=0, Count=15528, Percentage=99.0685%, Class=1, Count=146, Percentage=0.9315%\n"
     ]
    }
   ],
   "source": [
    "train_0, train_1 = len(y_train[y_train == 0]), len(y_train[y_train == 1])\n",
    "test_0, test_1 = len(y_test[y_test == 0]), len(y_test[y_test == 1])\n",
    "print('Train:\\n\\t Class=0, Count=%d, Percentage=%.4f%%, Class=1, Count=%d, Percentage=%.4f%%' % (train_0, train_0/(train_1+train_0)*100, train_1, train_1/(train_1+train_0)*100))\n",
    "print('Test:\\n\\t Class=0, Count=%d, Percentage=%.4f%%, Class=1, Count=%d, Percentage=%.4f%%' % (test_0, test_0/(test_1+test_0)*100, test_1, test_1/(test_1+test_0)*100))"
   ]
  },
  {
   "cell_type": "code",
   "execution_count": 10,
   "id": "1b615005",
   "metadata": {},
   "outputs": [],
   "source": [
    "X_train.reset_index(inplace=True,drop=True)\n",
    "X_test.reset_index(inplace=True,drop=True)\n",
    "y_train.reset_index(inplace=True,drop=True)\n",
    "y_test.reset_index(inplace=True,drop=True)"
   ]
  },
  {
   "cell_type": "markdown",
   "id": "a66a3bc1",
   "metadata": {},
   "source": [
    "## Evaluate Models"
   ]
  },
  {
   "cell_type": "markdown",
   "id": "0fb4a761",
   "metadata": {},
   "source": [
    "### Evaluate Machine Learning Algorithms"
   ]
  },
  {
   "cell_type": "code",
   "execution_count": 11,
   "id": "eae70b7d",
   "metadata": {},
   "outputs": [],
   "source": [
    "from numpy import mean\n",
    "from numpy import std\n",
    "from sklearn.model_selection import cross_val_score\n",
    "from sklearn.model_selection import RepeatedStratifiedKFold\n",
    "from imblearn.metrics import geometric_mean_score\n",
    "from sklearn.metrics import make_scorer\n",
    "from sklearn.linear_model import LogisticRegression\n",
    "from sklearn.svm import SVC\n",
    "from sklearn.ensemble import RandomForestClassifier\n",
    "from sklearn.ensemble import ExtraTreesClassifier\n",
    "from sklearn.ensemble import BaggingClassifier\n",
    "from sklearn.ensemble import GradientBoostingClassifier"
   ]
  },
  {
   "cell_type": "code",
   "execution_count": 12,
   "id": "c28f7baa",
   "metadata": {},
   "outputs": [],
   "source": [
    "from sklearn.compose import ColumnTransformer\n",
    "from sklearn.pipeline import Pipeline\n",
    "from sklearn.impute import SimpleImputer\n",
    "from sklearn.preprocessing import OneHotEncoder\n",
    "from sklearn.linear_model import LogisticRegression\n",
    "from sklearn.model_selection import train_test_split, GridSearchCV\n",
    "\n",
    "from sklearn.metrics import fbeta_score"
   ]
  },
  {
   "cell_type": "code",
   "execution_count": 13,
   "id": "e35bfe9f",
   "metadata": {},
   "outputs": [],
   "source": [
    "\n",
    "\n",
    "from sklearn.preprocessing import LabelEncoder\n",
    "from sklearn.preprocessing import StandardScaler\n",
    "from sklearn.preprocessing import MinMaxScaler\n",
    "from sklearn.preprocessing import PowerTransformer"
   ]
  },
  {
   "cell_type": "code",
   "execution_count": 14,
   "id": "e2830153",
   "metadata": {},
   "outputs": [
    {
     "data": {
      "text/plain": [
       "['family_size',\n",
       " 'holiday_covered',\n",
       " 'age_range',\n",
       " 'no_of_children',\n",
       " 'marital_status',\n",
       " 'camp_start_month',\n",
       " 'income_bracket',\n",
       " 'camp_type',\n",
       " 'camp_end_month',\n",
       " 'rented',\n",
       " 'category',\n",
       " 'brand_type']"
      ]
     },
     "execution_count": 14,
     "metadata": {},
     "output_type": "execute_result"
    }
   ],
   "source": [
    "features = [\n",
    "    'age_range', 'marital_status', 'rented', 'family_size', 'no_of_children',\n",
    "    'income_bracket', 'cust_quantity', 'cust_other_usage', 'cust_coupon_usage',\n",
    "    'camp_type', 'camp_start_month', 'camp_end_month', 'camp_duration',\n",
    "    'holiday_covered', 'item_NO.', 'brand_NO.', 'brand_type', 'category',\n",
    "    'items_quantity'\n",
    "]\n",
    "\n",
    "numeric_features = ['cust_quantity', 'cust_other_usage', 'cust_coupon_usage',\n",
    "                'camp_duration','item_NO.', 'brand_NO.', 'items_quantity']\n",
    "categorical_features=list(set(features)-set(numeric_features))\n",
    "categorical_features"
   ]
  },
  {
   "cell_type": "code",
   "execution_count": 15,
   "id": "ee6f8a04",
   "metadata": {},
   "outputs": [],
   "source": [
    "from imblearn.over_sampling import RandomOverSampler\n",
    "from imblearn.over_sampling import SMOTE\n",
    "from imblearn.over_sampling import BorderlineSMOTE\n",
    "from imblearn.over_sampling import SVMSMOTE\n",
    "from imblearn.over_sampling import ADASYN\n",
    "from imblearn.pipeline import Pipeline"
   ]
  },
  {
   "cell_type": "code",
   "execution_count": 15,
   "id": "2b2adafc",
   "metadata": {},
   "outputs": [],
   "source": [
    "# calculate f2-measure\n",
    "def f2_measure(y_true, y_pred):\n",
    "    return fbeta_score(y_true, y_pred, beta=2)\n",
    "\n",
    "# evaluate a model\n",
    "def evaluate_model(X, y, model):\n",
    "    # define evaluation procedure\n",
    "    cv = RepeatedStratifiedKFold(n_splits=10, n_repeats=3, random_state=1)\n",
    "    # define the model evaluation metric\n",
    "    metric = make_scorer(f2_measure)\n",
    "    # evaluate model     \n",
    "    scores = cross_val_score(model, X, y, scoring=metric, cv=cv, n_jobs=-1)\n",
    "    return scores\n",
    "\n",
    "# define models to test\n",
    "def get_models():\n",
    "    models, names = list(), list()\n",
    "    # LR Balanced + Normalization\n",
    "    numeric_transformer = MinMaxScaler()\n",
    "    categorical_transformer = OneHotEncoder(handle_unknown=\"ignore\")\n",
    "    Preprocessor = ColumnTransformer(transformers=[(\"num\", numeric_transformer, numeric_features),\n",
    "                                                   (\"cat\", categorical_transformer, categorical_features)], \n",
    "                                     remainder='passthrough')\n",
    "    steps = [('preprocessor', Preprocessor), \n",
    "             ('classifier', LogisticRegression(class_weight='balanced',solver='liblinear', random_state=2022, max_iter=1000))]       \n",
    "    models.append(Pipeline(steps=steps))\n",
    "    names.append('Balanced-Norm')\n",
    "    \n",
    "    # LR Balanced + Standardization\n",
    "    numeric_transformer = StandardScaler()\n",
    "    categorical_transformer = OneHotEncoder(handle_unknown=\"ignore\")\n",
    "    Preprocessor = ColumnTransformer(transformers=[(\"num\", numeric_transformer, numeric_features),\n",
    "                                                   (\"cat\", categorical_transformer, categorical_features)], \n",
    "                                     remainder='passthrough')\n",
    "    steps = [('preprocessor', Preprocessor), \n",
    "             ('classifier', LogisticRegression(class_weight='balanced', solver='liblinear', random_state=2022, max_iter=1000))]       \n",
    "    models.append(Pipeline(steps=steps))\n",
    "    names.append('Balanced-Std')   \n",
    "      \n",
    "    \n",
    "    return models, names\n",
    "                                   "
   ]
  },
  {
   "cell_type": "code",
   "execution_count": 16,
   "id": "d2a5f10e",
   "metadata": {},
   "outputs": [
    {
     "name": "stdout",
     "output_type": "stream",
     "text": [
      ">Balanced-Norm 0.160 (0.010)\n",
      ">Balanced-Std 0.161 (0.010)\n"
     ]
    },
    {
     "data": {
      "image/png": "[encoded data removed]",
      "text/plain": [
       "<Figure size 432x288 with 1 Axes>"
      ]
     },
     "metadata": {
      "needs_background": "light"
     },
     "output_type": "display_data"
    }
   ],
   "source": [
    "# define models\n",
    "models, names = get_models()\n",
    "results = list()\n",
    "# evaluate each model\n",
    "for i in range(len(models)):\n",
    "    # evaluate the model and store results\n",
    "    scores = evaluate_model(X_train, y_train, models[i])\n",
    "    results.append(scores)\n",
    "    # summarize and store\n",
    "    print('>%s %.3f (%.3f)' % (names[i], mean(scores), std(scores)))\n",
    "# plot the results\n",
    "plt.boxplot(results, labels=names, showmeans=True)\n",
    "plt.show()"
   ]
  },
  {
   "cell_type": "markdown",
   "id": "ea03d87f",
   "metadata": {},
   "source": [
    "### Evaluate Balanced Logistic Regression"
   ]
  },
  {
   "cell_type": "code",
   "execution_count": 17,
   "id": "01a8e11e",
   "metadata": {},
   "outputs": [],
   "source": [
    "# calculate f2-measure\n",
    "def f2_measure(y_true, y_pred):\n",
    "    return fbeta_score(y_true, y_pred, beta=2, average='macro')\n",
    "\n",
    "# evaluate a model\n",
    "def evaluate_model(X, y, model):\n",
    "    # define evaluation procedure\n",
    "    cv = RepeatedStratifiedKFold(n_splits=10, n_repeats=3, random_state=1)\n",
    "    # define the model evaluation metric\n",
    "    metric = make_scorer(f2_measure)\n",
    "    # evaluate model     \n",
    "    scores = cross_val_score(model, X, y, scoring=metric, cv=cv, n_jobs=-1)\n",
    "    return scores\n",
    "\n",
    "# define models to test\n",
    "def get_models():\n",
    "    models, names = list(), list()\n",
    "    # LR + Normalization\n",
    "    numeric_transformer = MinMaxScaler()\n",
    "    categorical_transformer = OneHotEncoder(handle_unknown=\"ignore\")\n",
    "    Preprocessor = ColumnTransformer(transformers=[(\"num\", numeric_transformer, numeric_features),\n",
    "                                                   (\"cat\", categorical_transformer, categorical_features)], \n",
    "                                     remainder='passthrough')\n",
    "    steps = [('preprocessor', Preprocessor), \n",
    "             ('classifier', LogisticRegression(solver='liblinear', random_state=2022, max_iter=1000))]       \n",
    "    models.append(Pipeline(steps=steps))\n",
    "    names.append('Norm')\n",
    "    \n",
    "    # LR Balanced + Normalization\n",
    "    numeric_transformer = MinMaxScaler()\n",
    "    categorical_transformer = OneHotEncoder(handle_unknown=\"ignore\")\n",
    "    Preprocessor = ColumnTransformer(transformers=[(\"num\", numeric_transformer, numeric_features),\n",
    "                                                   (\"cat\", categorical_transformer, categorical_features)], \n",
    "                                     remainder='passthrough')\n",
    "    steps = [('preprocessor', Preprocessor), \n",
    "             ('classifier', LogisticRegression(class_weight='balanced',solver='liblinear', random_state=2022, max_iter=1000))]       \n",
    "    models.append(Pipeline(steps=steps))\n",
    "    names.append('Balanced-Norm')\n",
    "    \n",
    "    # LR + Standardization\n",
    "    numeric_transformer = StandardScaler()\n",
    "    categorical_transformer = OneHotEncoder(handle_unknown=\"ignore\")\n",
    "    Preprocessor = ColumnTransformer(transformers=[(\"num\", numeric_transformer, numeric_features),\n",
    "                                                   (\"cat\", categorical_transformer, categorical_features)], \n",
    "                                     remainder='passthrough')\n",
    "    steps = [('preprocessor', Preprocessor), \n",
    "             ('classifier', LogisticRegression(solver='liblinear', random_state=2022, max_iter=1000))]       \n",
    "    models.append(Pipeline(steps=steps))\n",
    "    names.append('Std')  \n",
    "    \n",
    "    # LR Balanced + Standardization\n",
    "    numeric_transformer = StandardScaler()\n",
    "    categorical_transformer = OneHotEncoder(handle_unknown=\"ignore\")\n",
    "    Preprocessor = ColumnTransformer(transformers=[(\"num\", numeric_transformer, numeric_features),\n",
    "                                                   (\"cat\", categorical_transformer, categorical_features)], \n",
    "                                     remainder='passthrough')\n",
    "    steps = [('preprocessor', Preprocessor), \n",
    "             ('classifier', LogisticRegression(class_weight='balanced', solver='liblinear', random_state=2022, max_iter=1000))]       \n",
    "    models.append(Pipeline(steps=steps))\n",
    "    names.append('Balanced-Std')   \n",
    "    \n",
    "    # LR + Power\n",
    "    numeric_transformer = Pipeline(steps=[('s1', StandardScaler()),('s2',PowerTransformer())])\n",
    "    categorical_transformer = OneHotEncoder(handle_unknown=\"ignore\")\n",
    "    Preprocessor = ColumnTransformer(transformers=[(\"num\", numeric_transformer, numeric_features),\n",
    "                                                   (\"cat\", categorical_transformer, categorical_features)], \n",
    "                                     remainder='passthrough')\n",
    "    steps = [('preprocessor', Preprocessor), \n",
    "             ('classifier', LogisticRegression(solver='liblinear', random_state=2022, max_iter=1000))]     \n",
    "    models.append(Pipeline(steps=steps))\n",
    "    names.append('Power')\n",
    "    \n",
    "    # LR Balanced + Power\n",
    "    numeric_transformer = Pipeline(steps=[('s1', StandardScaler()),('s2',PowerTransformer())])\n",
    "    categorical_transformer = OneHotEncoder(handle_unknown=\"ignore\")\n",
    "    Preprocessor = ColumnTransformer(transformers=[(\"num\", numeric_transformer, numeric_features),\n",
    "                                                   (\"cat\", categorical_transformer, categorical_features)], \n",
    "                                     remainder='passthrough')\n",
    "    steps = [('preprocessor', Preprocessor), \n",
    "             ('classifier', LogisticRegression(class_weight='balanced', solver='liblinear', random_state=2022, max_iter=1000))]     \n",
    "    models.append(Pipeline(steps=steps))\n",
    "    names.append('Balanced-Power')\n",
    "    return models, names\n",
    "                               "
   ]
  },
  {
   "cell_type": "code",
   "execution_count": 18,
   "id": "b2474af6",
   "metadata": {},
   "outputs": [
    {
     "name": "stdout",
     "output_type": "stream",
     "text": [
      ">Norm 0.512 (0.012)\n",
      ">Balanced-Norm 0.505 (0.006)\n",
      ">Std 0.515 (0.013)\n",
      ">Balanced-Std 0.506 (0.006)\n",
      ">Power 0.503 (0.006)\n",
      ">Balanced-Power 0.525 (0.006)\n"
     ]
    },
    {
     "data": {
      "image/png": "[encoded data removed]",
      "text/plain": [
       "<Figure size 432x288 with 1 Axes>"
      ]
     },
     "metadata": {
      "needs_background": "light"
     },
     "output_type": "display_data"
    }
   ],
   "source": [
    "# define models\n",
    "models, names = get_models()\n",
    "results = list()\n",
    "# evaluate each model\n",
    "for i in range(len(models)):\n",
    "    # evaluate the model and store results\n",
    "    scores = evaluate_model(X_train, y_train, models[i])\n",
    "    results.append(scores)\n",
    "    # summarize and store\n",
    "    print('>%s %.3f (%.3f)' % (names[i], mean(scores), std(scores)))\n",
    "# plot the results\n",
    "plt.boxplot(results, labels=names, showmeans=True)\n",
    "plt.show()"
   ]
  },
  {
   "cell_type": "markdown",
   "id": "e1eaf5ab",
   "metadata": {},
   "source": [
    "### Evaluate Machine Learning Algorithms"
   ]
  },
  {
   "cell_type": "code",
   "execution_count": 16,
   "id": "a33c899d",
   "metadata": {},
   "outputs": [],
   "source": [
    "from sklearn.discriminant_analysis import LinearDiscriminantAnalysis\n",
    "from sklearn.naive_bayes import GaussianNB\n",
    "from sklearn.gaussian_process import GaussianProcessClassifier\n",
    "from sklearn.svm import SVC"
   ]
  },
  {
   "cell_type": "code",
   "execution_count": 47,
   "id": "27c4da55",
   "metadata": {},
   "outputs": [],
   "source": [
    "# calculate f2-measure\n",
    "def f2_measure(y_true, y_pred):\n",
    "    return fbeta_score(y_true, y_pred, beta=2, average='macro')\n",
    "\n",
    "# evaluate a model\n",
    "def evaluate_model(X, y, model):\n",
    "    # define evaluation procedure\n",
    "    cv = RepeatedStratifiedKFold(n_splits=10, n_repeats=3, random_state=1)\n",
    "    # define the model evaluation metric\n",
    "    metric = make_scorer(f2_measure)\n",
    "    # evaluate model     \n",
    "    scores = cross_val_score(model, X, y, scoring=metric, cv=cv, n_jobs=-1)\n",
    "    return scores\n",
    "\n",
    "# define models to test\n",
    "def get_models():\n",
    "    models, names = list(), list()\n",
    "    # LR\n",
    "    models.append(LogisticRegression(solver='liblinear'))\n",
    "    names.append('LR')\n",
    "    # LDA\n",
    "    models.append(LinearDiscriminantAnalysis())\n",
    "    names.append('LDA')\n",
    "    # NB\n",
    "    models.append(GaussianNB())\n",
    "    names.append('NB')\n",
    "    \n",
    "    # SVM\n",
    "    models.append(SVC(gamma='scale'))\n",
    "    names.append('SVM')\n",
    "    return models, names"
   ]
  },
  {
   "cell_type": "code",
   "execution_count": null,
   "id": "6a3bd7b5",
   "metadata": {},
   "outputs": [
    {
     "name": "stdout",
     "output_type": "stream",
     "text": [
      ">LR 0.511 (0.007)\n",
      ">LDA 0.580 (0.022)\n",
      ">NB 0.061 (0.003)\n"
     ]
    }
   ],
   "source": [
    "# define models\n",
    "models, names = get_models()\n",
    "results = list()\n",
    "# evaluate each model\n",
    "for i in range(len(models)):\n",
    "    # one hot encode categorical, normalize numerical\n",
    "    numeric_transformer = MinMaxScaler()\n",
    "    categorical_transformer = OneHotEncoder(handle_unknown=\"ignore\", sparse=False)\n",
    "    Preprocessor = ColumnTransformer(transformers=[(\"num\", numeric_transformer, numeric_features),\n",
    "                                                   (\"cat\", categorical_transformer, categorical_features)], \n",
    "                                     remainder='passthrough')\n",
    "    # wrap the model in a pipeline\n",
    "    steps = [('preprocessor', Preprocessor), \n",
    "             ('classifier', models[i])]       \n",
    "    pipeline = Pipeline(steps=steps)\n",
    "    # evaluate the model and store results\n",
    "    scores = evaluate_model(X, y, pipeline)\n",
    "    results.append(scores)\n",
    "    # summarize and store\n",
    "    print('>%s %.3f (%.3f)' % (names[i], mean(scores), std(scores)))\n",
    "# plot the results\n",
    "plt.boxplot(results, labels=names, showmeans=True)\n",
    "plt.show()   \n",
    "      "
   ]
  },
  {
   "cell_type": "code",
   "execution_count": 16,
   "id": "236b6a04",
   "metadata": {},
   "outputs": [],
   "source": [
    "from sklearn.ensemble import RandomForestClassifier\n",
    "from sklearn.ensemble import GradientBoostingClassifier\n",
    "from sklearn.ensemble import BaggingClassifier"
   ]
  },
  {
   "cell_type": "code",
   "execution_count": 92,
   "id": "bf789927",
   "metadata": {
    "code_folding": []
   },
   "outputs": [],
   "source": [
    "# calculate f2-measure\n",
    "def f2_measure(y_true, y_pred):\n",
    "    return fbeta_score(y_true, y_pred, beta=2, average='macro')\n",
    "\n",
    "# evaluate a model\n",
    "def evaluate_model(X, y, model):\n",
    "    # define evaluation procedure\n",
    "    cv = RepeatedStratifiedKFold(n_splits=10, n_repeats=3, random_state=1)\n",
    "    # define the model evaluation metric\n",
    "    metric = make_scorer(f2_measure)\n",
    "    # evaluate model     \n",
    "    scores = cross_val_score(model, X, y, scoring=metric, cv=cv, n_jobs=-1)\n",
    "    return scores\n",
    "\n",
    "# define models to test\n",
    "def get_models():\n",
    "    models, names = list(), list()\n",
    "    # LR\n",
    "    models.append(LogisticRegression(solver='liblinear'))\n",
    "    names.append('LR')\n",
    "    # LDA\n",
    "    models.append(LinearDiscriminantAnalysis())\n",
    "    names.append('LDA')\n",
    "    # Bagging\n",
    "    models.append(BaggingClassifier(n_estimators=1000))\n",
    "    names.append('BAG')\n",
    "    # RF\n",
    "    models.append(RandomForestClassifier(n_estimators=1000))\n",
    "    names.append('RF')\n",
    "    # GBM\n",
    "    models.append(GradientBoostingClassifier(n_estimators=1000))\n",
    "    names.append('GBM') \n",
    "    # SVM\n",
    "    models.append(SVC(gamma='scale'))\n",
    "    names.append('SVM')\n",
    "    return models, names\n"
   ]
  },
  {
   "cell_type": "code",
   "execution_count": 94,
   "id": "81de7ffd",
   "metadata": {},
   "outputs": [
    {
     "name": "stdout",
     "output_type": "stream",
     "text": [
      ">LR 0.511 (0.007)\n",
      ">LDA 0.580 (0.022)\n",
      ">BAG 0.567 (0.016)\n",
      ">RF 0.554 (0.017)\n",
      ">GBM 0.571 (0.021)\n",
      ">SVM 0.499 (0.000)\n"
     ]
    },
    {
     "data": {
      "image/png": "[encoded data removed]",
      "text/plain": [
       "<Figure size 432x288 with 1 Axes>"
      ]
     },
     "metadata": {
      "needs_background": "light"
     },
     "output_type": "display_data"
    }
   ],
   "source": [
    "# define models\n",
    "models, names = get_models()\n",
    "results = list()\n",
    "# evaluate each model\n",
    "for i in range(len(models)):\n",
    "    # one hot encode categorical, normalize numerical\n",
    "    numeric_transformer = MinMaxScaler()\n",
    "    categorical_transformer = OneHotEncoder(handle_unknown=\"ignore\", sparse=False)\n",
    "    Preprocessor = ColumnTransformer(transformers=[(\"num\", numeric_transformer, numeric_features),\n",
    "                                                   (\"cat\", categorical_transformer, categorical_features)], \n",
    "                                     remainder='passthrough')\n",
    "    # wrap the model in a pipeline\n",
    "    steps = [('preprocessor', Preprocessor), \n",
    "             ('classifier', models[i])]       \n",
    "    pipeline = Pipeline(steps=steps)\n",
    "    # evaluate the model and store results\n",
    "    scores = evaluate_model(X, y, pipeline)\n",
    "    results.append(scores)\n",
    "    # summarize and store\n",
    "    print('>%s %.3f (%.3f)' % (names[i], mean(scores), std(scores)))\n",
    "# plot the results\n",
    "plt.boxplot(results, labels=names, showmeans=True)\n",
    "plt.show()   \n",
    "      "
   ]
  },
  {
   "cell_type": "code",
   "execution_count": 97,
   "id": "90d5f3da",
   "metadata": {},
   "outputs": [
    {
     "data": {
      "text/plain": [
       "[array([0.516094  , 0.49901008, 0.5156599 , 0.49901008, 0.51587618,\n",
       "        0.50760678, 0.516094  , 0.49901008, 0.516094  , 0.52488606,\n",
       "        0.516094  , 0.51587618, 0.516094  , 0.516094  , 0.49901008,\n",
       "        0.51598489, 0.50744603, 0.516094  , 0.50752631, 0.50757535,\n",
       "        0.51598489, 0.51587618, 0.51576785, 0.49901008, 0.51587618,\n",
       "        0.50744603, 0.50752631, 0.50760678, 0.516094  , 0.49902291]),\n",
       " array([0.57425955, 0.58618009, 0.54466947, 0.56141713, 0.57496221,\n",
       "        0.57639666, 0.57423498, 0.58992459, 0.60362729, 0.61732055,\n",
       "        0.59344419, 0.59300554, 0.55814119, 0.58413925, 0.56824655,\n",
       "        0.5565996 , 0.60241029, 0.58566036, 0.57496221, 0.58579745,\n",
       "        0.61144792, 0.55404929, 0.60119531, 0.63009025, 0.61049173,\n",
       "        0.58910495, 0.54745238, 0.55053444, 0.55090846, 0.56292915]),\n",
       " array([0.59179831, 0.54711607, 0.57788579, 0.52317555, 0.57880338,\n",
       "        0.59424223, 0.57044436, 0.5557429 , 0.59424223, 0.57138773,\n",
       "        0.58555885, 0.55503682, 0.57100961, 0.56368754, 0.55621964,\n",
       "        0.56239282, 0.55434129, 0.56933132, 0.55645985, 0.56245597,\n",
       "        0.59424223, 0.55411174, 0.56264911, 0.56316565, 0.56368754,\n",
       "        0.59318359, 0.54670093, 0.57186873, 0.5557429 , 0.56375744]),\n",
       " array([0.55434129, 0.53191669, 0.55621964, 0.53951219, 0.5557429 ,\n",
       "        0.57186873, 0.54795862, 0.55598066, 0.53951219, 0.59621923,\n",
       "        0.55598066, 0.54838618, 0.57880338, 0.57158084, 0.54881805,\n",
       "        0.57186873, 0.53823822, 0.54774643, 0.57215816, 0.53124348,\n",
       "        0.58755212, 0.55550635, 0.53988388, 0.555271  , 0.54838618,\n",
       "        0.55550635, 0.51544512, 0.55621964, 0.54774643, 0.54025506]),\n",
       " array([0.60789552, 0.5642149 , 0.56342592, 0.53914398, 0.57100961,\n",
       "        0.60342119, 0.56290672, 0.53932765, 0.54795862, 0.58017271,\n",
       "        0.6086864 , 0.54732516, 0.58755212, 0.56290672, 0.54860157,\n",
       "        0.57849589, 0.61661236, 0.57186873, 0.58004992, 0.5642876 ,\n",
       "        0.57072625, 0.56316565, 0.56960743, 0.57973576, 0.59568095,\n",
       "        0.59424223, 0.5396976 , 0.57100961, 0.55550635, 0.54025506]),\n",
       " array([0.49906153, 0.49906153, 0.49906153, 0.49906153, 0.49906153,\n",
       "        0.49906153, 0.49906153, 0.49906153, 0.49906153, 0.49907436,\n",
       "        0.49906153, 0.49906153, 0.49906153, 0.49906153, 0.49906153,\n",
       "        0.49906153, 0.49906153, 0.49906153, 0.49906153, 0.49907436,\n",
       "        0.49906153, 0.49906153, 0.49906153, 0.49906153, 0.49906153,\n",
       "        0.49906153, 0.49906153, 0.49906153, 0.49906153, 0.49907436])]"
      ]
     },
     "execution_count": 97,
     "metadata": {},
     "output_type": "execute_result"
    }
   ],
   "source": [
    "results_diff_models=results\n",
    "results_diff_models"
   ]
  },
  {
   "cell_type": "markdown",
   "id": "abcbdccc",
   "metadata": {},
   "source": [
    "### Evaluate Data Oversampling Algorithms"
   ]
  },
  {
   "cell_type": "code",
   "execution_count": 17,
   "id": "002444ca",
   "metadata": {},
   "outputs": [],
   "source": [
    "# data oversampling algorithms on the phoneme imbalanced dataset\n",
    "\n",
    "from sklearn.ensemble import ExtraTreesClassifier\n",
    "from imblearn.over_sampling import RandomOverSampler\n",
    "from imblearn.over_sampling import SMOTE\n",
    "from imblearn.over_sampling import BorderlineSMOTE\n",
    "from imblearn.over_sampling import SVMSMOTE\n",
    "from imblearn.over_sampling import ADASYN\n",
    "from imblearn.pipeline import Pipeline"
   ]
  },
  {
   "cell_type": "code",
   "execution_count": 98,
   "id": "bdd5a8f9",
   "metadata": {},
   "outputs": [],
   "source": [
    "# calculate f2-measure\n",
    "def f2_measure(y_true, y_pred):\n",
    "    return fbeta_score(y_true, y_pred, beta=2, average='macro')\n",
    "\n",
    "# evaluate a model\n",
    "def evaluate_model(X, y, model):\n",
    "    # define evaluation procedure\n",
    "    cv = RepeatedStratifiedKFold(n_splits=10, n_repeats=3, random_state=1)\n",
    "    # define the model evaluation metric\n",
    "    metric = make_scorer(f2_measure)\n",
    "    # evaluate model     \n",
    "    scores = cross_val_score(model, X, y, scoring=metric, cv=cv, n_jobs=-1)\n",
    "    return scores\n",
    "\n",
    "# define oversampling models to test\n",
    "def get_models():\n",
    "    models, names = list(), list()\n",
    "    # RandomOverSampler\n",
    "    models.append(RandomOverSampler())\n",
    "    names.append('ROS')\n",
    "    # SMOTE\n",
    "    models.append(SMOTE())\n",
    "    names.append('SMOTE')\n",
    "    # BorderlineSMOTE\n",
    "    models.append(BorderlineSMOTE())\n",
    "    names.append('BLSMOTE')\n",
    "    # SVMSMOTE\n",
    "    models.append(SVMSMOTE())\n",
    "    names.append('SVMSMOTE')\n",
    "    # ADASYN\n",
    "    models.append(ADASYN())\n",
    "    names.append('ADASYN')\n",
    "    return models, names"
   ]
  },
  {
   "cell_type": "code",
   "execution_count": 82,
   "id": "410bfe48",
   "metadata": {},
   "outputs": [
    {
     "name": "stdout",
     "output_type": "stream",
     "text": [
      ">ROS 0.505 (0.006)\n",
      ">SMOTE 0.511 (0.006)\n",
      ">BLSMOTE 0.532 (0.007)\n",
      ">SVMSMOTE 0.564 (0.019)\n",
      ">ADASYN 0.506 (0.006)\n"
     ]
    },
    {
     "data": {
      "image/png": "[encoded data removed]",
      "text/plain": [
       "<Figure size 432x288 with 1 Axes>"
      ]
     },
     "metadata": {
      "needs_background": "light"
     },
     "output_type": "display_data"
    }
   ],
   "source": [
    "# define models\n",
    "models, names = get_models()\n",
    "results = list()\n",
    "# evaluate each model\n",
    "for i in range(len(models)):\n",
    "    # define the model\n",
    "    model = LogisticRegression(class_weight ='balanced', random_state=2022, max_iter=1000)\n",
    "    # define the pipeline steps\n",
    "    numeric_transformer = MinMaxScaler()\n",
    "    categorical_transformer = OneHotEncoder(handle_unknown=\"ignore\")\n",
    "    Preprocessor = ColumnTransformer(transformers=[(\"num\", numeric_transformer, numeric_features),\n",
    "                                                   (\"cat\", categorical_transformer, categorical_features)], \n",
    "                                     remainder='passthrough')    \n",
    "    steps = [('preprocessor', Preprocessor),  \n",
    "             ('oversampling', models[i]),\n",
    "             ('classifier', model)]     \n",
    "    # define the pipeline\n",
    "    pipeline = Pipeline(steps=steps)\n",
    "    # evaluate the model and store results\n",
    "    scores = evaluate_model(X_train, y_train, pipeline)    \n",
    "    results.append(scores)\n",
    "    # summarize and store\n",
    "    print('>%s %.3f (%.3f)' % (names[i], mean(scores), std(scores)))\n",
    "# plot the results\n",
    "plt.boxplot(results, labels=names, showmeans=True)\n",
    "plt.show()"
   ]
  },
  {
   "cell_type": "code",
   "execution_count": 83,
   "id": "c4afdb11",
   "metadata": {},
   "outputs": [
    {
     "name": "stdout",
     "output_type": "stream",
     "text": [
      ">ROS 0.524 (0.006)\n",
      ">SMOTE 0.536 (0.006)\n",
      ">BLSMOTE 0.574 (0.008)\n",
      ">SVMSMOTE 0.601 (0.011)\n",
      ">ADASYN 0.530 (0.006)\n"
     ]
    },
    {
     "data": {
      "image/png": "[encoded data removed]",
      "text/plain": [
       "<Figure size 432x288 with 1 Axes>"
      ]
     },
     "metadata": {
      "needs_background": "light"
     },
     "output_type": "display_data"
    }
   ],
   "source": [
    "# define models\n",
    "models, names = get_models()\n",
    "results = list()\n",
    "# evaluate each model\n",
    "for i in range(len(models)):\n",
    "    # define the model\n",
    "    model = LogisticRegression(class_weight ='balanced', random_state=2022, max_iter=1000)\n",
    "    # define the pipeline steps    \n",
    "    numeric_transformer = Pipeline(steps=[('s1', StandardScaler()),('s2',PowerTransformer())])\n",
    "    categorical_transformer = OneHotEncoder(handle_unknown=\"ignore\")\n",
    "    Preprocessor = ColumnTransformer(transformers=[(\"num\", numeric_transformer, numeric_features),\n",
    "                                                   (\"cat\", categorical_transformer, categorical_features)], \n",
    "                                     remainder='passthrough')    \n",
    "    steps = [('preprocessor', Preprocessor),  \n",
    "             ('oversampling', models[i]),\n",
    "             ('classifier', model)]     \n",
    "    # define the pipeline\n",
    "    pipeline = Pipeline(steps=steps)\n",
    "    # evaluate the model and store results\n",
    "    scores = evaluate_model(X_train, y_train, pipeline)    \n",
    "    results.append(scores)\n",
    "    # summarize and store\n",
    "    print('>%s %.3f (%.3f)' % (names[i], mean(scores), std(scores)))\n",
    "# plot the results\n",
    "plt.boxplot(results, labels=names, showmeans=True)\n",
    "plt.show()"
   ]
  },
  {
   "cell_type": "code",
   "execution_count": 101,
   "id": "3b359711",
   "metadata": {},
   "outputs": [
    {
     "name": "stdout",
     "output_type": "stream",
     "text": [
      ">ROS 0.497 (0.006)\n",
      ">SMOTE 0.496 (0.007)\n",
      ">BLSMOTE 0.516 (0.007)\n",
      ">SVMSMOTE 0.574 (0.023)\n",
      ">ADASYN 0.494 (0.006)\n"
     ]
    },
    {
     "data": {
      "image/png": "[encoded data removed]",
      "text/plain": [
       "<Figure size 432x288 with 1 Axes>"
      ]
     },
     "metadata": {
      "needs_background": "light"
     },
     "output_type": "display_data"
    }
   ],
   "source": [
    "# define models\n",
    "models, names = get_models()\n",
    "results = list()\n",
    "# evaluate each model\n",
    "for i in range(len(models)):\n",
    "    # define the model\n",
    "    model = LinearDiscriminantAnalysis()\n",
    "    # define the pipeline steps    \n",
    "    numeric_transformer = MinMaxScaler()\n",
    "    categorical_transformer = OneHotEncoder(handle_unknown=\"ignore\", sparse=False)\n",
    "    Preprocessor = ColumnTransformer(transformers=[(\"num\", numeric_transformer, numeric_features),\n",
    "                                                   (\"cat\", categorical_transformer, categorical_features)], \n",
    "                                     remainder='passthrough')    \n",
    "    steps = [('preprocessor', Preprocessor),  \n",
    "             ('oversampling', models[i]),\n",
    "             ('classifier', model)]     \n",
    "    # define the pipeline\n",
    "    pipeline = Pipeline(steps=steps)\n",
    "    # evaluate the model and store results\n",
    "    scores = evaluate_model(X_train, y_train, pipeline)    \n",
    "    results.append(scores)\n",
    "    # summarize and store\n",
    "    print('>%s %.3f (%.3f)' % (names[i], mean(scores), std(scores)))\n",
    "# plot the results\n",
    "plt.boxplot(results, labels=names, showmeans=True)\n",
    "plt.show()"
   ]
  },
  {
   "cell_type": "markdown",
   "id": "bb89e216",
   "metadata": {},
   "source": [
    "### Evaluate One-Class Algorithms"
   ]
  },
  {
   "cell_type": "code",
   "execution_count": 18,
   "id": "2322a352",
   "metadata": {},
   "outputs": [],
   "source": [
    "from sklearn.svm import OneClassSVM\n",
    "from sklearn.ensemble import IsolationForest\n",
    "from sklearn.covariance import EllipticEnvelope\n",
    "from sklearn.neighbors import LocalOutlierFactor"
   ]
  },
  {
   "cell_type": "code",
   "execution_count": 114,
   "id": "0fb52b0c",
   "metadata": {},
   "outputs": [],
   "source": [
    "# calculate f2-measure\n",
    "def f2_measure(y_true, y_pred):\n",
    "    return fbeta_score(y_true, y_pred, beta=2, average='macro')\n",
    "\n",
    "# evaluate a model\n",
    "def evaluate_model(X, y, model):\n",
    "    # define evaluation procedure\n",
    "    cv = RepeatedStratifiedKFold(n_splits=10, n_repeats=3, random_state=1)\n",
    "    # define the model evaluation metric\n",
    "    metric = make_scorer(f2_measure)\n",
    "    # evaluate model     \n",
    "    scores = cross_val_score(model, X, y, scoring=metric, cv=cv, n_jobs=-1)\n",
    "    return scores\n",
    "\n",
    "# define models to test\n",
    "def get_models():\n",
    "    models, names = list(), list()\n",
    "    # One-Class Support Vector Machines\n",
    "    models.append(OneClassSVM(gamma='scale', nu=0.01))\n",
    "    names.append('OC')\n",
    "    # Isolation Forests\n",
    "    models.append(IsolationForest(contamination=0.01))\n",
    "    names.append('IF')\n",
    "    # Minimum Covariance Determinant\n",
    "    models.append(EllipticEnvelope(contamination=0.01))\n",
    "    names.append('EE')\n",
    "    # Local Outlier Factor\n",
    "    models.append(LocalOutlierFactor(contamination=0.01))\n",
    "    names.append('LOF')\n",
    "    return models, names\n"
   ]
  },
  {
   "cell_type": "code",
   "execution_count": 115,
   "id": "5d4359c3",
   "metadata": {},
   "outputs": [
    {
     "name": "stdout",
     "output_type": "stream",
     "text": [
      ">OC 0.015 (0.000)\n",
      ">IF 0.015 (0.000)\n",
      ">EE 0.014 (0.000)\n",
      ">LOF nan (nan)\n"
     ]
    },
    {
     "data": {
      "image/png": "[encoded data removed]",
      "text/plain": [
       "<Figure size 432x288 with 1 Axes>"
      ]
     },
     "metadata": {
      "needs_background": "light"
     },
     "output_type": "display_data"
    }
   ],
   "source": [
    "# define models\n",
    "models, names = get_models()\n",
    "results = list()\n",
    "# evaluate each model\n",
    "for i in range(len(models)):\n",
    "    # one hot encode categorical, normalize numerical\n",
    "    numeric_transformer = MinMaxScaler()\n",
    "    categorical_transformer = OneHotEncoder(handle_unknown=\"ignore\", sparse=False)\n",
    "    Preprocessor = ColumnTransformer(transformers=[(\"num\", numeric_transformer, numeric_features),\n",
    "                                                   (\"cat\", categorical_transformer, categorical_features)], \n",
    "                                     remainder='passthrough')\n",
    "    # wrap the model in a pipeline\n",
    "    steps = [('preprocessor', Preprocessor), \n",
    "             ('classifier', models[i])]       \n",
    "    pipeline = Pipeline(steps=steps)\n",
    "    # evaluate the model and store results\n",
    "    scores = evaluate_model(X, y, pipeline)\n",
    "    results.append(scores)\n",
    "    # summarize and store\n",
    "    print('>%s %.3f (%.3f)' % (names[i], mean(scores), std(scores)))\n",
    "# plot the results\n",
    "plt.boxplot(results, labels=names, showmeans=True)\n",
    "plt.show() "
   ]
  },
  {
   "cell_type": "markdown",
   "id": "e886db79",
   "metadata": {},
   "source": [
    "### Evaluate SVM Algorithms"
   ]
  },
  {
   "cell_type": "code",
   "execution_count": 21,
   "id": "26fbfee7",
   "metadata": {},
   "outputs": [],
   "source": [
    "#help(fbeta_score)"
   ]
  },
  {
   "cell_type": "markdown",
   "id": "4e75981c",
   "metadata": {},
   "source": [
    "#### Evaluate SVM kernal"
   ]
  },
  {
   "cell_type": "code",
   "execution_count": 27,
   "id": "6aaa1b04",
   "metadata": {},
   "outputs": [],
   "source": [
    "# calculate f2-measure\n",
    "def f2_measure(y_true, y_pred):\n",
    "    return fbeta_score(y_true, y_pred, beta=2, average='macro')\n",
    "\n",
    "# evaluate a model\n",
    "def evaluate_model(X, y, model):\n",
    "    # define evaluation procedure\n",
    "    cv = RepeatedStratifiedKFold(n_splits=2, n_repeats=1, random_state=1)\n",
    "    # define the model evaluation metric\n",
    "    metric = make_scorer(f2_measure)\n",
    "    # evaluate model     \n",
    "    scores = cross_val_score(model, X, y, scoring=metric, cv=cv, n_jobs=-1)\n",
    "    return scores\n",
    "\n",
    "# define models to test\n",
    "def get_models():\n",
    "    models, names = list(), list()\n",
    "    \n",
    "    # SVM-linear\n",
    "    models.append(SVC(kernel=\"linear\"))\n",
    "    names.append('SVM-linear')\n",
    "    \n",
    "    # SVM-rbf\n",
    "    models.append(SVC(kernel=\"rbf\"))\n",
    "    names.append('SVM-rbf')\n",
    "    \n",
    "#     # SVM-poly\n",
    "#     models.append(SVC(kernel=\"poly\", degree=2))\n",
    "#     names.append('SVM-linear')\n",
    "    return models, names"
   ]
  },
  {
   "cell_type": "code",
   "execution_count": 28,
   "id": "48dc679f",
   "metadata": {},
   "outputs": [
    {
     "name": "stdout",
     "output_type": "stream",
     "text": [
      ">SVM-linear 0.499 (0.000)\n",
      ">SVM-rbf 0.499 (0.000)\n"
     ]
    },
    {
     "data": {
      "image/png": "[encoded data removed]",
      "text/plain": [
       "<Figure size 432x288 with 1 Axes>"
      ]
     },
     "metadata": {
      "needs_background": "light"
     },
     "output_type": "display_data"
    }
   ],
   "source": [
    "# define models\n",
    "models, names = get_models()\n",
    "results = list()\n",
    "# evaluate each model\n",
    "for i in range(len(models)):\n",
    "    # one hot encode categorical, normalize numerical\n",
    "    numeric_transformer = MinMaxScaler()\n",
    "    categorical_transformer = OneHotEncoder(handle_unknown=\"ignore\", sparse=False)\n",
    "    Preprocessor = ColumnTransformer(transformers=[(\"num\", numeric_transformer, numeric_features),\n",
    "                                                   (\"cat\", categorical_transformer, categorical_features)], \n",
    "                                     remainder='passthrough')\n",
    "    # wrap the model in a pipeline\n",
    "    steps = [('preprocessor', Preprocessor), \n",
    "             ('classifier', models[i])]       \n",
    "    pipeline = Pipeline(steps=steps)\n",
    "    # evaluate the model and store results\n",
    "    scores = evaluate_model(X, y, pipeline)\n",
    "    results.append(scores)\n",
    "    # summarize and store\n",
    "    print('>%s %.3f (%.3f)' % (names[i], mean(scores), std(scores)))\n",
    "# plot the results\n",
    "plt.boxplot(results, labels=names, showmeans=True)\n",
    "plt.show()  "
   ]
  },
  {
   "cell_type": "markdown",
   "id": "8fc22a4f",
   "metadata": {},
   "source": [
    "#### Evaluate SVM with Oversampling Algorithms"
   ]
  },
  {
   "cell_type": "code",
   "execution_count": 29,
   "id": "289eba0a",
   "metadata": {},
   "outputs": [],
   "source": [
    "# define oversampling models to test\n",
    "def get_models():\n",
    "    models, names = list(), list()\n",
    "    # RandomOverSampler\n",
    "    models.append(RandomOverSampler())\n",
    "    names.append('ROS')\n",
    "    # SMOTE\n",
    "    models.append(SMOTE())\n",
    "    names.append('SMOTE')\n",
    "    # BorderlineSMOTE\n",
    "    models.append(BorderlineSMOTE())\n",
    "    names.append('BLSMOTE')\n",
    "    # SVMSMOTE\n",
    "    models.append(SVMSMOTE())\n",
    "    names.append('SVMSMOTE')\n",
    "    # ADASYN\n",
    "    models.append(ADASYN())\n",
    "    names.append('ADASYN')\n",
    "    return models, names"
   ]
  },
  {
   "cell_type": "code",
   "execution_count": 30,
   "id": "692594c7",
   "metadata": {},
   "outputs": [
    {
     "name": "stdout",
     "output_type": "stream",
     "text": [
      ">ROS 0.505 (0.012)\n",
      ">SMOTE 0.513 (0.006)\n",
      ">BLSMOTE 0.533 (0.006)\n",
      ">SVMSMOTE 0.577 (0.005)\n",
      ">ADASYN 0.512 (0.006)\n"
     ]
    },
    {
     "data": {
      "image/png": "[encoded data removed]",
      "text/plain": [
       "<Figure size 432x288 with 1 Axes>"
      ]
     },
     "metadata": {
      "needs_background": "light"
     },
     "output_type": "display_data"
    }
   ],
   "source": [
    "# define models\n",
    "models, names = get_models()\n",
    "results = list()\n",
    "# evaluate each model\n",
    "for i in range(len(models)):\n",
    "    # define the model\n",
    "    model = SVC(kernel=\"linear\")\n",
    "    # define the pipeline steps\n",
    "    numeric_transformer = MinMaxScaler()\n",
    "    categorical_transformer = OneHotEncoder(handle_unknown=\"ignore\")\n",
    "    Preprocessor = ColumnTransformer(transformers=[(\"num\", numeric_transformer, numeric_features),\n",
    "                                                   (\"cat\", categorical_transformer, categorical_features)], \n",
    "                                     remainder='passthrough')    \n",
    "    steps = [('preprocessor', Preprocessor),  \n",
    "             ('oversampling', models[i]),\n",
    "             ('classifier', model)]     \n",
    "    # define the pipeline\n",
    "    pipeline = Pipeline(steps=steps)\n",
    "    # evaluate the model and store results\n",
    "    scores = evaluate_model(X_train, y_train, pipeline)    \n",
    "    results.append(scores)\n",
    "    # summarize and store\n",
    "    print('>%s %.3f (%.3f)' % (names[i], mean(scores), std(scores)))\n",
    "# plot the results\n",
    "plt.boxplot(results, labels=names, showmeans=True)\n",
    "plt.show()"
   ]
  },
  {
   "cell_type": "markdown",
   "id": "367dd378",
   "metadata": {},
   "source": [
    "#### Evaluate SVM with Cost-sentitive Algorithms"
   ]
  },
  {
   "cell_type": "code",
   "execution_count": 31,
   "id": "0d2e5eb4",
   "metadata": {},
   "outputs": [],
   "source": [
    "# define oversampling models to test\n",
    "def get_models():\n",
    "    models, names = list(), list()\n",
    "    \n",
    "    # SVM + balanced \n",
    "    models.append(SVC(kernel=\"linear\", class_weight=\"balanced\"))\n",
    "    names.append('SVM+balanced')\n",
    "    \n",
    "    # SVM + 1:9 \n",
    "    models.append(SVC(kernel=\"linear\", class_weight={0:0.90,1:0.10}))\n",
    "    names.append('SVM+1:9')\n",
    "    \n",
    "    # SVM + 2:8\n",
    "    models.append(SVC(kernel=\"linear\", class_weight={0:0.80,1:0.20}))\n",
    "    names.append('SVM+2:8')\n",
    "    \n",
    "    return models, names"
   ]
  },
  {
   "cell_type": "code",
   "execution_count": 32,
   "id": "39f5360c",
   "metadata": {},
   "outputs": [
    {
     "name": "stdout",
     "output_type": "stream",
     "text": [
      ">SVM+balanced 0.501 (0.001)\n",
      ">SVM+1:9 0.499 (0.000)\n",
      ">SVM+2:8 0.499 (0.000)\n"
     ]
    },
    {
     "data": {
      "image/png": "[encoded data removed]",
      "text/plain": [
       "<Figure size 432x288 with 1 Axes>"
      ]
     },
     "metadata": {
      "needs_background": "light"
     },
     "output_type": "display_data"
    }
   ],
   "source": [
    "# define models\n",
    "models, names = get_models()\n",
    "results = list()\n",
    "# evaluate each model\n",
    "for i in range(len(models)):\n",
    "    # one hot encode categorical, normalize numerical\n",
    "    numeric_transformer = MinMaxScaler()\n",
    "    categorical_transformer = OneHotEncoder(handle_unknown=\"ignore\", sparse=False)\n",
    "    Preprocessor = ColumnTransformer(transformers=[(\"num\", numeric_transformer, numeric_features),\n",
    "                                                   (\"cat\", categorical_transformer, categorical_features)], \n",
    "                                     remainder='passthrough')\n",
    "    # wrap the model in a pipeline\n",
    "    steps = [('preprocessor', Preprocessor), \n",
    "             ('classifier', models[i])]       \n",
    "    pipeline = Pipeline(steps=steps)\n",
    "    # evaluate the model and store results\n",
    "    scores = evaluate_model(X, y, pipeline)\n",
    "    results.append(scores)\n",
    "    # summarize and store\n",
    "    print('>%s %.3f (%.3f)' % (names[i], mean(scores), std(scores)))\n",
    "# plot the results\n",
    "plt.boxplot(results, labels=names, showmeans=True)\n",
    "plt.show() "
   ]
  },
  {
   "cell_type": "markdown",
   "id": "fc9d82de",
   "metadata": {},
   "source": [
    "#### Evaluate SVM with hyperparameter tuning"
   ]
  },
  {
   "cell_type": "code",
   "execution_count": 33,
   "id": "1f155729",
   "metadata": {},
   "outputs": [],
   "source": [
    "# define oversampling models to test\n",
    "def get_models():\n",
    "    models, names = list(), list()\n",
    "    \n",
    "    # SVM + balanced + C0.1\n",
    "    models.append(SVC(kernel=\"linear\", class_weight=\"balanced\", C=0.1))\n",
    "    names.append('SVM+C0.1')\n",
    "    \n",
    "    # SVM + balanced + C1\n",
    "    models.append(SVC(kernel=\"linear\", class_weight=\"balanced\", C=1))\n",
    "    names.append('SVM+C1')\n",
    "    \n",
    "    return models, names"
   ]
  },
  {
   "cell_type": "code",
   "execution_count": 34,
   "id": "24d395c9",
   "metadata": {},
   "outputs": [
    {
     "name": "stdout",
     "output_type": "stream",
     "text": [
      ">SVM+C0.1 0.494 (0.002)\n",
      ">SVM+C1 0.501 (0.001)\n"
     ]
    },
    {
     "data": {
      "image/png": "[encoded data removed]",
      "text/plain": [
       "<Figure size 432x288 with 1 Axes>"
      ]
     },
     "metadata": {
      "needs_background": "light"
     },
     "output_type": "display_data"
    }
   ],
   "source": [
    "# define models\n",
    "models, names = get_models()\n",
    "results = list()\n",
    "# evaluate each model\n",
    "for i in range(len(models)):\n",
    "    # one hot encode categorical, normalize numerical\n",
    "    numeric_transformer = MinMaxScaler()\n",
    "    categorical_transformer = OneHotEncoder(handle_unknown=\"ignore\", sparse=False)\n",
    "    Preprocessor = ColumnTransformer(transformers=[(\"num\", numeric_transformer, numeric_features),\n",
    "                                                   (\"cat\", categorical_transformer, categorical_features)], \n",
    "                                     remainder='passthrough')\n",
    "    # wrap the model in a pipeline\n",
    "    steps = [('preprocessor', Preprocessor), \n",
    "             ('classifier', models[i])]       \n",
    "    pipeline = Pipeline(steps=steps)\n",
    "    # evaluate the model and store results\n",
    "    scores = evaluate_model(X, y, pipeline)\n",
    "    results.append(scores)\n",
    "    # summarize and store\n",
    "    print('>%s %.3f (%.3f)' % (names[i], mean(scores), std(scores)))\n",
    "# plot the results\n",
    "plt.boxplot(results, labels=names, showmeans=True)\n",
    "plt.show() "
   ]
  },
  {
   "cell_type": "markdown",
   "id": "8c5c53e3",
   "metadata": {},
   "source": [
    "### Model Persistence"
   ]
  },
  {
   "cell_type": "code",
   "execution_count": 49,
   "id": "d61baa06",
   "metadata": {},
   "outputs": [
    {
     "data": {
      "text/html": [
       "<div>\n",
       "<style scoped>\n",
       "    .dataframe tbody tr th:only-of-type {\n",
       "        vertical-align: middle;\n",
       "    }\n",
       "\n",
       "    .dataframe tbody tr th {\n",
       "        vertical-align: top;\n",
       "    }\n",
       "\n",
       "    .dataframe thead th {\n",
       "        text-align: right;\n",
       "    }\n",
       "</style>\n",
       "<table border=\"1\" class=\"dataframe\">\n",
       "  <thead>\n",
       "    <tr style=\"text-align: right;\">\n",
       "      <th></th>\n",
       "      <th>cust_quantity</th>\n",
       "      <th>cust_other_usage</th>\n",
       "      <th>cust_coupon_usage</th>\n",
       "      <th>camp_duration</th>\n",
       "      <th>item_NO.</th>\n",
       "      <th>brand_NO.</th>\n",
       "      <th>items_quantity</th>\n",
       "    </tr>\n",
       "  </thead>\n",
       "  <tbody>\n",
       "    <tr>\n",
       "      <th>0</th>\n",
       "      <td>452</td>\n",
       "      <td>128</td>\n",
       "      <td>2</td>\n",
       "      <td>47</td>\n",
       "      <td>16</td>\n",
       "      <td>1</td>\n",
       "      <td>533</td>\n",
       "    </tr>\n",
       "    <tr>\n",
       "      <th>1</th>\n",
       "      <td>1135</td>\n",
       "      <td>480</td>\n",
       "      <td>2</td>\n",
       "      <td>48</td>\n",
       "      <td>1</td>\n",
       "      <td>1</td>\n",
       "      <td>56</td>\n",
       "    </tr>\n",
       "    <tr>\n",
       "      <th>2</th>\n",
       "      <td>193459</td>\n",
       "      <td>712</td>\n",
       "      <td>11</td>\n",
       "      <td>48</td>\n",
       "      <td>4</td>\n",
       "      <td>1</td>\n",
       "      <td>143</td>\n",
       "    </tr>\n",
       "    <tr>\n",
       "      <th>3</th>\n",
       "      <td>11226</td>\n",
       "      <td>1087</td>\n",
       "      <td>227</td>\n",
       "      <td>61</td>\n",
       "      <td>66</td>\n",
       "      <td>1</td>\n",
       "      <td>2605</td>\n",
       "    </tr>\n",
       "    <tr>\n",
       "      <th>4</th>\n",
       "      <td>40633</td>\n",
       "      <td>912</td>\n",
       "      <td>44</td>\n",
       "      <td>40</td>\n",
       "      <td>4</td>\n",
       "      <td>1</td>\n",
       "      <td>27</td>\n",
       "    </tr>\n",
       "  </tbody>\n",
       "</table>\n",
       "</div>"
      ],
      "text/plain": [
       "   cust_quantity  cust_other_usage  cust_coupon_usage  camp_duration  \\\n",
       "0            452               128                  2             47   \n",
       "1           1135               480                  2             48   \n",
       "2         193459               712                 11             48   \n",
       "3          11226              1087                227             61   \n",
       "4          40633               912                 44             40   \n",
       "\n",
       "   item_NO.  brand_NO.  items_quantity  \n",
       "0        16          1             533  \n",
       "1         1          1              56  \n",
       "2         4          1             143  \n",
       "3        66          1            2605  \n",
       "4         4          1              27  "
      ]
     },
     "execution_count": 49,
     "metadata": {},
     "output_type": "execute_result"
    }
   ],
   "source": [
    "final_numeric_features = ['cust_quantity', \n",
    "                    'cust_other_usage', \n",
    "                    'cust_coupon_usage',\n",
    "                    'camp_duration',\n",
    "                    'item_NO.', \n",
    "                    'brand_NO.', \n",
    "                    'items_quantity']\n",
    "final_X_train = X_train[final_numeric_features]\n",
    "final_X_train.head()"
   ]
  },
  {
   "cell_type": "code",
   "execution_count": 50,
   "id": "68d4d5ea",
   "metadata": {},
   "outputs": [
    {
     "data": {
      "text/html": [
       "<style>#sk-container-id-3 {color: black;background-color: white;}#sk-container-id-3 pre{padding: 0;}#sk-container-id-3 div.sk-toggleable {background-color: white;}#sk-container-id-3 label.sk-toggleable__label {cursor: pointer;display: block;width: 100%;margin-bottom: 0;padding: 0.3em;box-sizing: border-box;text-align: center;}#sk-container-id-3 label.sk-toggleable__label-arrow:before {content: \"▸\";float: left;margin-right: 0.25em;color: #696969;}#sk-container-id-3 label.sk-toggleable__label-arrow:hover:before {color: black;}#sk-container-id-3 div.sk-estimator:hover label.sk-toggleable__label-arrow:before {color: black;}#sk-container-id-3 div.sk-toggleable__content {max-height: 0;max-width: 0;overflow: hidden;text-align: left;background-color: #f0f8ff;}#sk-container-id-3 div.sk-toggleable__content pre {margin: 0.2em;color: black;border-radius: 0.25em;background-color: #f0f8ff;}#sk-container-id-3 input.sk-toggleable__control:checked~div.sk-toggleable__content {max-height: 200px;max-width: 100%;overflow: auto;}#sk-container-id-3 input.sk-toggleable__control:checked~label.sk-toggleable__label-arrow:before {content: \"▾\";}#sk-container-id-3 div.sk-estimator input.sk-toggleable__control:checked~label.sk-toggleable__label {background-color: #d4ebff;}#sk-container-id-3 div.sk-label input.sk-toggleable__control:checked~label.sk-toggleable__label {background-color: #d4ebff;}#sk-container-id-3 input.sk-hidden--visually {border: 0;clip: rect(1px 1px 1px 1px);clip: rect(1px, 1px, 1px, 1px);height: 1px;margin: -1px;overflow: hidden;padding: 0;position: absolute;width: 1px;}#sk-container-id-3 div.sk-estimator {font-family: monospace;background-color: #f0f8ff;border: 1px dotted black;border-radius: 0.25em;box-sizing: border-box;margin-bottom: 0.5em;}#sk-container-id-3 div.sk-estimator:hover {background-color: #d4ebff;}#sk-container-id-3 div.sk-parallel-item::after {content: \"\";width: 100%;border-bottom: 1px solid gray;flex-grow: 1;}#sk-container-id-3 div.sk-label:hover label.sk-toggleable__label {background-color: #d4ebff;}#sk-container-id-3 div.sk-serial::before {content: \"\";position: absolute;border-left: 1px solid gray;box-sizing: border-box;top: 0;bottom: 0;left: 50%;z-index: 0;}#sk-container-id-3 div.sk-serial {display: flex;flex-direction: column;align-items: center;background-color: white;padding-right: 0.2em;padding-left: 0.2em;position: relative;}#sk-container-id-3 div.sk-item {position: relative;z-index: 1;}#sk-container-id-3 div.sk-parallel {display: flex;align-items: stretch;justify-content: center;background-color: white;position: relative;}#sk-container-id-3 div.sk-item::before, #sk-container-id-3 div.sk-parallel-item::before {content: \"\";position: absolute;border-left: 1px solid gray;box-sizing: border-box;top: 0;bottom: 0;left: 50%;z-index: -1;}#sk-container-id-3 div.sk-parallel-item {display: flex;flex-direction: column;z-index: 1;position: relative;background-color: white;}#sk-container-id-3 div.sk-parallel-item:first-child::after {align-self: flex-end;width: 50%;}#sk-container-id-3 div.sk-parallel-item:last-child::after {align-self: flex-start;width: 50%;}#sk-container-id-3 div.sk-parallel-item:only-child::after {width: 0;}#sk-container-id-3 div.sk-dashed-wrapped {border: 1px dashed gray;margin: 0 0.4em 0.5em 0.4em;box-sizing: border-box;padding-bottom: 0.4em;background-color: white;}#sk-container-id-3 div.sk-label label {font-family: monospace;font-weight: bold;display: inline-block;line-height: 1.2em;}#sk-container-id-3 div.sk-label-container {text-align: center;}#sk-container-id-3 div.sk-container {/* jupyter's `normalize.less` sets `[hidden] { display: none; }` but bootstrap.min.css set `[hidden] { display: none !important; }` so we also need the `!important` here to be able to override the default hidden behavior on the sphinx rendered scikit-learn.org. See: https://github.com/scikit-learn/scikit-learn/issues/21755 */display: inline-block !important;position: relative;}#sk-container-id-3 div.sk-text-repr-fallback {display: none;}</style><div id=\"sk-container-id-3\" class=\"sk-top-container\"><div class=\"sk-text-repr-fallback\"><pre>Pipeline(steps=[(&#x27;scaler&#x27;, MinMaxScaler()),\n",
       "                (&#x27;classifier&#x27;, SVC(kernel=&#x27;linear&#x27;))])</pre><b>In a Jupyter environment, please rerun this cell to show the HTML representation or trust the notebook. <br />On GitHub, the HTML representation is unable to render, please try loading this page with nbviewer.org.</b></div><div class=\"sk-container\" hidden><div class=\"sk-item sk-dashed-wrapped\"><div class=\"sk-label-container\"><div class=\"sk-label sk-toggleable\"><input class=\"sk-toggleable__control sk-hidden--visually\" id=\"sk-estimator-id-7\" type=\"checkbox\" ><label for=\"sk-estimator-id-7\" class=\"sk-toggleable__label sk-toggleable__label-arrow\">Pipeline</label><div class=\"sk-toggleable__content\"><pre>Pipeline(steps=[(&#x27;scaler&#x27;, MinMaxScaler()),\n",
       "                (&#x27;classifier&#x27;, SVC(kernel=&#x27;linear&#x27;))])</pre></div></div></div><div class=\"sk-serial\"><div class=\"sk-item\"><div class=\"sk-estimator sk-toggleable\"><input class=\"sk-toggleable__control sk-hidden--visually\" id=\"sk-estimator-id-8\" type=\"checkbox\" ><label for=\"sk-estimator-id-8\" class=\"sk-toggleable__label sk-toggleable__label-arrow\">MinMaxScaler</label><div class=\"sk-toggleable__content\"><pre>MinMaxScaler()</pre></div></div></div><div class=\"sk-item\"><div class=\"sk-estimator sk-toggleable\"><input class=\"sk-toggleable__control sk-hidden--visually\" id=\"sk-estimator-id-9\" type=\"checkbox\" ><label for=\"sk-estimator-id-9\" class=\"sk-toggleable__label sk-toggleable__label-arrow\">SVC</label><div class=\"sk-toggleable__content\"><pre>SVC(kernel=&#x27;linear&#x27;)</pre></div></div></div></div></div></div></div>"
      ],
      "text/plain": [
       "Pipeline(steps=[('scaler', MinMaxScaler()),\n",
       "                ('classifier', SVC(kernel='linear'))])"
      ]
     },
     "execution_count": 50,
     "metadata": {},
     "output_type": "execute_result"
    }
   ],
   "source": [
    "smote = SVMSMOTE(random_state=2022)\n",
    "final_X_train_2, y_train_2 = smote.fit_resample(final_X_train, y_train)\n",
    "steps = [('scaler', MinMaxScaler()),\n",
    "         ('classifier', SVC(kernel=\"linear\"))] \n",
    "final_model = Pipeline(steps=steps)\n",
    "final_model.fit(final_X_train_2, y_train_2)"
   ]
  },
  {
   "cell_type": "code",
   "execution_count": 41,
   "id": "852a34d4",
   "metadata": {},
   "outputs": [],
   "source": []
  },
  {
   "cell_type": "code",
   "execution_count": 42,
   "id": "f46cab81",
   "metadata": {},
   "outputs": [],
   "source": [
    "import joblib"
   ]
  },
  {
   "cell_type": "code",
   "execution_count": 51,
   "id": "3d490b81",
   "metadata": {},
   "outputs": [],
   "source": [
    "joblib.dump(final_model, 'final_model.pkl')\n",
    "list(final_X_train.columns)\n",
    "joblib.dump(list(final_X_train.columns), 'col_names.pkl')\n",
    "new_columns = joblib.load('col_names.pkl')"
   ]
  },
  {
   "cell_type": "code",
   "execution_count": null,
   "id": "3eb061ff",
   "metadata": {},
   "outputs": [],
   "source": []
  },
  {
   "cell_type": "code",
   "execution_count": 52,
   "id": "dac59de5",
   "metadata": {},
   "outputs": [
    {
     "name": "stderr",
     "output_type": "stream",
     "text": [
      "X does not have valid feature names, but MinMaxScaler was fitted with feature names\n"
     ]
    },
    {
     "data": {
      "text/plain": [
       "array([0], dtype=int64)"
      ]
     },
     "execution_count": 52,
     "metadata": {},
     "output_type": "execute_result"
    }
   ],
   "source": [
    "loaded_model = joblib.load('final_model.pkl')\n",
    "loaded_model.predict([[452, 128, 2, 47, 16, 1, 533]])"
   ]
  },
  {
   "cell_type": "code",
   "execution_count": null,
   "id": "2548af57",
   "metadata": {},
   "outputs": [],
   "source": []
  },
  {
   "cell_type": "code",
   "execution_count": null,
   "id": "bf794218",
   "metadata": {},
   "outputs": [],
   "source": []
  }
 ],
 "metadata": {
  "kernelspec": {
   "display_name": "Python 3",
   "language": "python",
   "name": "python3"
  },
  "language_info": {
   "codemirror_mode": {
    "name": "ipython",
    "version": 3
   },
   "file_extension": ".py",
   "mimetype": "text/x-python",
   "name": "python",
   "nbconvert_exporter": "python",
   "pygments_lexer": "ipython3",
   "version": "3.8.8"
  },
  "toc": {
   "base_numbering": 1,
   "nav_menu": {},
   "number_sections": true,
   "sideBar": true,
   "skip_h1_title": false,
   "title_cell": "Table of Contents",
   "title_sidebar": "Contents",
   "toc_cell": false,
   "toc_position": {
    "height": "calc(100% - 180px)",
    "left": "10px",
    "top": "150px",
    "width": "303.837px"
   },
   "toc_section_display": true,
   "toc_window_display": false
  }
 },
 "nbformat": 4,
 "nbformat_minor": 5
}
